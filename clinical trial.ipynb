{
 "cells": [
  {
   "cell_type": "markdown",
   "id": "3973bc1f-e382-4232-ad63-b558fee34818",
   "metadata": {},
   "source": [
    "<H2>A/B Testing To Measure Drug Effectiveness</H2>"
   ]
  },
  {
   "cell_type": "markdown",
   "id": "c985490a-5b69-45a6-886e-23e096b0d4af",
   "metadata": {},
   "source": [
    "In this notebook, we will show how to conduct A/B testings using a two sample Z test. There is a drug A in the market that removes the headache in X number of hours. New drug B is being developed in this same pharma company and their hypothesis is that B can reduce the headache in less number of hours (i.e Recovery time for drug B is better compared to drug A). We have conducted the clinical trail and the results are available in the csv file"
   ]
  },
  {
   "cell_type": "code",
   "execution_count": 1,
   "id": "3863102f-4f8e-4d7e-88dd-debedbd52ead",
   "metadata": {},
   "outputs": [],
   "source": [
    "import pandas as pd\n",
    "import numpy as np\n",
    "from scipy import stats as st"
   ]
  },
  {
   "cell_type": "code",
   "execution_count": 2,
   "id": "f1b3a750-8d81-4f20-b3cd-4b9298bd3aef",
   "metadata": {},
   "outputs": [
    {
     "data": {
      "text/html": [
       "<div>\n",
       "<style scoped>\n",
       "    .dataframe tbody tr th:only-of-type {\n",
       "        vertical-align: middle;\n",
       "    }\n",
       "\n",
       "    .dataframe tbody tr th {\n",
       "        vertical-align: top;\n",
       "    }\n",
       "\n",
       "    .dataframe thead th {\n",
       "        text-align: right;\n",
       "    }\n",
       "</style>\n",
       "<table border=\"1\" class=\"dataframe\">\n",
       "  <thead>\n",
       "    <tr style=\"text-align: right;\">\n",
       "      <th></th>\n",
       "      <th>person_id</th>\n",
       "      <th>recovery_time_hrs</th>\n",
       "    </tr>\n",
       "  </thead>\n",
       "  <tbody>\n",
       "    <tr>\n",
       "      <th>0</th>\n",
       "      <td>C001</td>\n",
       "      <td>4.4</td>\n",
       "    </tr>\n",
       "    <tr>\n",
       "      <th>1</th>\n",
       "      <td>C002</td>\n",
       "      <td>4.1</td>\n",
       "    </tr>\n",
       "    <tr>\n",
       "      <th>2</th>\n",
       "      <td>C003</td>\n",
       "      <td>3.2</td>\n",
       "    </tr>\n",
       "    <tr>\n",
       "      <th>3</th>\n",
       "      <td>C004</td>\n",
       "      <td>4.3</td>\n",
       "    </tr>\n",
       "    <tr>\n",
       "      <th>4</th>\n",
       "      <td>C005</td>\n",
       "      <td>4.9</td>\n",
       "    </tr>\n",
       "  </tbody>\n",
       "</table>\n",
       "</div>"
      ],
      "text/plain": [
       "  person_id  recovery_time_hrs\n",
       "0      C001                4.4\n",
       "1      C002                4.1\n",
       "2      C003                3.2\n",
       "3      C004                4.3\n",
       "4      C005                4.9"
      ]
     },
     "execution_count": 2,
     "metadata": {},
     "output_type": "execute_result"
    }
   ],
   "source": [
    "control = pd.read_csv(r\"C:\\Users\\divya\\Statistics\\chapter10_assets\\chapter10_assets\\11_z_test_AB_testing_coding\\control_group.csv\")\n",
    "control.head()"
   ]
  },
  {
   "cell_type": "code",
   "execution_count": 4,
   "id": "c2bc0469-ca2d-49ea-b981-2edd6b70d4ee",
   "metadata": {},
   "outputs": [
    {
     "data": {
      "text/html": [
       "<div>\n",
       "<style scoped>\n",
       "    .dataframe tbody tr th:only-of-type {\n",
       "        vertical-align: middle;\n",
       "    }\n",
       "\n",
       "    .dataframe tbody tr th {\n",
       "        vertical-align: top;\n",
       "    }\n",
       "\n",
       "    .dataframe thead th {\n",
       "        text-align: right;\n",
       "    }\n",
       "</style>\n",
       "<table border=\"1\" class=\"dataframe\">\n",
       "  <thead>\n",
       "    <tr style=\"text-align: right;\">\n",
       "      <th></th>\n",
       "      <th>person_id</th>\n",
       "      <th>recovery_time_hrs</th>\n",
       "    </tr>\n",
       "  </thead>\n",
       "  <tbody>\n",
       "    <tr>\n",
       "      <th>0</th>\n",
       "      <td>T001</td>\n",
       "      <td>3.7</td>\n",
       "    </tr>\n",
       "    <tr>\n",
       "      <th>1</th>\n",
       "      <td>T002</td>\n",
       "      <td>4.1</td>\n",
       "    </tr>\n",
       "    <tr>\n",
       "      <th>2</th>\n",
       "      <td>T003</td>\n",
       "      <td>3.7</td>\n",
       "    </tr>\n",
       "    <tr>\n",
       "      <th>3</th>\n",
       "      <td>T004</td>\n",
       "      <td>3.9</td>\n",
       "    </tr>\n",
       "    <tr>\n",
       "      <th>4</th>\n",
       "      <td>T005</td>\n",
       "      <td>3.7</td>\n",
       "    </tr>\n",
       "  </tbody>\n",
       "</table>\n",
       "</div>"
      ],
      "text/plain": [
       "  person_id  recovery_time_hrs\n",
       "0      T001                3.7\n",
       "1      T002                4.1\n",
       "2      T003                3.7\n",
       "3      T004                3.9\n",
       "4      T005                3.7"
      ]
     },
     "execution_count": 4,
     "metadata": {},
     "output_type": "execute_result"
    }
   ],
   "source": [
    "test = pd.read_csv(r\"C:\\Users\\divya\\Statistics\\chapter10_assets\\chapter10_assets\\11_z_test_AB_testing_coding\\test_group.csv\")\n",
    "test.head()"
   ]
  },
  {
   "cell_type": "code",
   "execution_count": 5,
   "id": "4e7d7066-d575-4e7c-af0b-ecad16645256",
   "metadata": {},
   "outputs": [
    {
     "data": {
      "text/plain": [
       "(4.0, 0.48, 130)"
      ]
     },
     "execution_count": 5,
     "metadata": {},
     "output_type": "execute_result"
    }
   ],
   "source": [
    "control_mean = control.recovery_time_hrs.mean().round(2)\n",
    "control_std = control.recovery_time_hrs.std().round(2)\n",
    "control_size = control.shape[0]\n",
    "control_mean, control_std, control_size"
   ]
  },
  {
   "cell_type": "code",
   "execution_count": 6,
   "id": "b85c7e11-6582-431d-a26d-49ebc70d5498",
   "metadata": {},
   "outputs": [
    {
     "data": {
      "text/plain": [
       "(3.91, 0.32, 100)"
      ]
     },
     "execution_count": 6,
     "metadata": {},
     "output_type": "execute_result"
    }
   ],
   "source": [
    "test_mean = test.recovery_time_hrs.mean().round(2)\n",
    "test_std = test.recovery_time_hrs.std().round(2)\n",
    "test_size = test.shape[0] \n",
    "test_mean, test_std, test_size"
   ]
  },
  {
   "cell_type": "markdown",
   "id": "cff07c82-e8cf-4901-b120-b49f7963aca0",
   "metadata": {},
   "source": [
    "Hypothesis\n",
    "Null Hypothesis (H0): No improvement in recovery time in the test group (mean_control <= mean_test)\n",
    "Alternate Hypothesis (H1): Improvement in recovery time in the test group (mean_control > mean_test)\n",
    "This is a right-tailed test since we are testing if the mean of the test group is significantly lower than the control group."
   ]
  },
  {
   "cell_type": "markdown",
   "id": "7bc5f5c4-1d3a-43f2-b686-ba5d42fee458",
   "metadata": {},
   "source": [
    "### Test Using Rejection Region (i.e. Critical Z Value)"
   ]
  },
  {
   "cell_type": "code",
   "execution_count": 7,
   "id": "b9c63be2-c7a4-42d9-8e19-6f6fbd3c91d6",
   "metadata": {},
   "outputs": [
    {
     "data": {
      "text/plain": [
       "1.701962671923127"
      ]
     },
     "execution_count": 7,
     "metadata": {},
     "output_type": "execute_result"
    }
   ],
   "source": [
    "a = (control_std**2/control_size)\n",
    "b = (test_std**2/test_size)\n",
    "\n",
    "Z_score = (control_mean-test_mean)/np.sqrt(a+b)\n",
    "Z_score"
   ]
  },
  {
   "cell_type": "code",
   "execution_count": 8,
   "id": "8d3357ce-6891-4c74-89e1-e1fc173ef58f",
   "metadata": {},
   "outputs": [
    {
     "data": {
      "text/plain": [
       "1.6448536269514722"
      ]
     },
     "execution_count": 8,
     "metadata": {},
     "output_type": "execute_result"
    }
   ],
   "source": [
    "# For a significance level of 5% (0.05) in a right-tailed test, the critical Z-value is approximately 1.645\n",
    "\n",
    "alpha = 0.05 # significance level of 5%\n",
    "\n",
    "critical_z_value = st.norm.ppf(1 - alpha)  # Right-tailed test at 5% significance level\n",
    "critical_z_value"
   ]
  },
  {
   "cell_type": "code",
   "execution_count": 9,
   "id": "091e9878-c544-4060-9a18-f764f6853549",
   "metadata": {},
   "outputs": [
    {
     "data": {
      "text/plain": [
       "True"
      ]
     },
     "execution_count": 9,
     "metadata": {},
     "output_type": "execute_result"
    }
   ],
   "source": [
    "Z_score > critical_z_value"
   ]
  },
  {
   "cell_type": "markdown",
   "id": "4102970c-c6a8-460c-8dc6-f3b3dc89d5f8",
   "metadata": {},
   "source": [
    "As you can see above, since the Z score is higher than the critical z value, it falls inside the rejection region. Hence we will reject our null hypothesis and accept that alternate hypothesis that the new drug indeed reduces the recovery time for the headache"
   ]
  },
  {
   "cell_type": "markdown",
   "id": "faf448e1-5da0-4fe6-85dc-f0bb9b2299d1",
   "metadata": {},
   "source": [
    "Test Using p-Value"
   ]
  },
  {
   "cell_type": "markdown",
   "id": "c2eade15-5f54-44e0-9e8c-31d62ca6b8bb",
   "metadata": {},
   "source": [
    "# Calculate the p-value corresponding to z score for a right-tailed test\n"
   ]
  },
  {
   "cell_type": "code",
   "execution_count": 13,
   "id": "570e6057-68b9-445e-9580-25e39a105663",
   "metadata": {},
   "outputs": [
    {
     "data": {
      "text/plain": [
       "0.0443811829929599"
      ]
     },
     "execution_count": 13,
     "metadata": {},
     "output_type": "execute_result"
    }
   ],
   "source": [
    "p_value = 1 - st.norm.cdf(Z_score)\n",
    "p_value"
   ]
  },
  {
   "cell_type": "code",
   "execution_count": 14,
   "id": "c4887d36-d137-4055-83d2-4f353336071d",
   "metadata": {},
   "outputs": [
    {
     "data": {
      "text/plain": [
       "True"
      ]
     },
     "execution_count": 14,
     "metadata": {},
     "output_type": "execute_result"
    }
   ],
   "source": [
    "p_value < alpha # p value is less than significance level of 5% (or 0.05 for absolute value)"
   ]
  },
  {
   "cell_type": "code",
   "execution_count": null,
   "id": "97d631c2-f3e9-468a-be9b-408f4f584450",
   "metadata": {},
   "outputs": [],
   "source": []
  }
 ],
 "metadata": {
  "kernelspec": {
   "display_name": "Python 3 (ipykernel)",
   "language": "python",
   "name": "python3"
  },
  "language_info": {
   "codemirror_mode": {
    "name": "ipython",
    "version": 3
   },
   "file_extension": ".py",
   "mimetype": "text/x-python",
   "name": "python",
   "nbconvert_exporter": "python",
   "pygments_lexer": "ipython3",
   "version": "3.11.8"
  }
 },
 "nbformat": 4,
 "nbformat_minor": 5
}
